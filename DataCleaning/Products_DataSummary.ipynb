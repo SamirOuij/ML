{
 "cells": [
  {
   "cell_type": "code",
   "execution_count": 9,
   "id": "b6137309-f637-4105-bd95-973356ed7ba5",
   "metadata": {},
   "outputs": [],
   "source": [
    "import numpy as np\n",
    "import pandas as pd\n",
    "import matplotlib.pyplot as plt"
   ]
  },
  {
   "cell_type": "code",
   "execution_count": 30,
   "id": "b1ddcdc9-e1d6-4de4-9e30-633f9a58e07b",
   "metadata": {},
   "outputs": [
    {
     "data": {
      "text/html": [
       "<div>\n",
       "<style scoped>\n",
       "    .dataframe tbody tr th:only-of-type {\n",
       "        vertical-align: middle;\n",
       "    }\n",
       "\n",
       "    .dataframe tbody tr th {\n",
       "        vertical-align: top;\n",
       "    }\n",
       "\n",
       "    .dataframe thead th {\n",
       "        text-align: right;\n",
       "    }\n",
       "</style>\n",
       "<table border=\"1\" class=\"dataframe\">\n",
       "  <thead>\n",
       "    <tr style=\"text-align: right;\">\n",
       "      <th></th>\n",
       "      <th>asin</th>\n",
       "      <th>product_type</th>\n",
       "      <th>parent_asin</th>\n",
       "      <th>product_group</th>\n",
       "      <th>manufacturer</th>\n",
       "      <th>brand</th>\n",
       "      <th>model</th>\n",
       "      <th>color</th>\n",
       "      <th>size</th>\n",
       "      <th>is_eligible_for_super_saver_shipping</th>\n",
       "      <th>is_sns</th>\n",
       "    </tr>\n",
       "  </thead>\n",
       "  <tbody>\n",
       "    <tr>\n",
       "      <th>67</th>\n",
       "      <td>B0BFNQ3VPH</td>\n",
       "      <td>0</td>\n",
       "      <td>B005GCCJME</td>\n",
       "      <td>Shoes</td>\n",
       "      <td>Crocs</td>\n",
       "      <td>Crocs</td>\n",
       "      <td>10001</td>\n",
       "      <td>Atmosphere</td>\n",
       "      <td>14 Women/12 Men</td>\n",
       "      <td>False</td>\n",
       "      <td>False</td>\n",
       "    </tr>\n",
       "    <tr>\n",
       "      <th>165</th>\n",
       "      <td>B0B131K7Y8</td>\n",
       "      <td>0</td>\n",
       "      <td>BT00DC6QU4</td>\n",
       "      <td>Gift Card</td>\n",
       "      <td>NaN</td>\n",
       "      <td>Amazon</td>\n",
       "      <td>307_US_Email</td>\n",
       "      <td>NaN</td>\n",
       "      <td>NaN</td>\n",
       "      <td>False</td>\n",
       "      <td>False</td>\n",
       "    </tr>\n",
       "    <tr>\n",
       "      <th>102</th>\n",
       "      <td>B09RX27945</td>\n",
       "      <td>0</td>\n",
       "      <td>BT00DC6QU4</td>\n",
       "      <td>Gift Card</td>\n",
       "      <td>NaN</td>\n",
       "      <td>Amazon</td>\n",
       "      <td>307_US_Email</td>\n",
       "      <td>NaN</td>\n",
       "      <td>NaN</td>\n",
       "      <td>False</td>\n",
       "      <td>False</td>\n",
       "    </tr>\n",
       "    <tr>\n",
       "      <th>120</th>\n",
       "      <td>B0B87RHN7V</td>\n",
       "      <td>0</td>\n",
       "      <td>B0B3MX3VSM</td>\n",
       "      <td>Wireless</td>\n",
       "      <td>Misxi</td>\n",
       "      <td>Misxi</td>\n",
       "      <td>MP-R41</td>\n",
       "      <td>1 Rose Pink + 1 Transparent</td>\n",
       "      <td>41mm</td>\n",
       "      <td>False</td>\n",
       "      <td>False</td>\n",
       "    </tr>\n",
       "    <tr>\n",
       "      <th>57</th>\n",
       "      <td>B0BBMRM825</td>\n",
       "      <td>0</td>\n",
       "      <td>BT00DC6QU4</td>\n",
       "      <td>Gift Card</td>\n",
       "      <td>NaN</td>\n",
       "      <td>Amazon</td>\n",
       "      <td>307_US_Email</td>\n",
       "      <td>NaN</td>\n",
       "      <td>NaN</td>\n",
       "      <td>False</td>\n",
       "      <td>False</td>\n",
       "    </tr>\n",
       "  </tbody>\n",
       "</table>\n",
       "</div>"
      ],
      "text/plain": [
       "           asin  product_type parent_asin product_group manufacturer   brand  \\\n",
       "67   B0BFNQ3VPH             0  B005GCCJME         Shoes        Crocs   Crocs   \n",
       "165  B0B131K7Y8             0  BT00DC6QU4     Gift Card          NaN  Amazon   \n",
       "102  B09RX27945             0  BT00DC6QU4     Gift Card          NaN  Amazon   \n",
       "120  B0B87RHN7V             0  B0B3MX3VSM      Wireless        Misxi   Misxi   \n",
       "57   B0BBMRM825             0  BT00DC6QU4     Gift Card          NaN  Amazon   \n",
       "\n",
       "            model                        color             size  \\\n",
       "67          10001                   Atmosphere  14 Women/12 Men   \n",
       "165  307_US_Email                          NaN              NaN   \n",
       "102  307_US_Email                          NaN              NaN   \n",
       "120        MP-R41  1 Rose Pink + 1 Transparent             41mm   \n",
       "57   307_US_Email                          NaN              NaN   \n",
       "\n",
       "     is_eligible_for_super_saver_shipping  is_sns  \n",
       "67                                  False   False  \n",
       "165                                 False   False  \n",
       "102                                 False   False  \n",
       "120                                 False   False  \n",
       "57                                  False   False  "
      ]
     },
     "execution_count": 30,
     "metadata": {},
     "output_type": "execute_result"
    }
   ],
   "source": [
    "prod = pd.read_csv(\"data/products_edited.csv\")\n",
    "prod.sample(5)"
   ]
  },
  {
   "cell_type": "code",
   "execution_count": 28,
   "id": "c871d933-2c22-4393-aeb8-b32db5eb05af",
   "metadata": {},
   "outputs": [
    {
     "data": {
      "text/plain": [
       "(200, 11)"
      ]
     },
     "execution_count": 28,
     "metadata": {},
     "output_type": "execute_result"
    }
   ],
   "source": [
    "prod.shape"
   ]
  },
  {
   "cell_type": "code",
   "execution_count": 4,
   "id": "d5f57a7f-e0fa-4d8b-9efe-3c7d5d99c68f",
   "metadata": {},
   "outputs": [
    {
     "data": {
      "text/plain": [
       "array([0, 1, 5])"
      ]
     },
     "execution_count": 4,
     "metadata": {},
     "output_type": "execute_result"
    }
   ],
   "source": [
    "prod.product_type.unique()"
   ]
  },
  {
   "cell_type": "markdown",
   "id": "87be6faa-a2b2-451b-9a7a-062b6c551197",
   "metadata": {},
   "source": [
    "#### A significant amount of manufacturer names, product color, and product size are missing from the data. "
   ]
  },
  {
   "cell_type": "code",
   "execution_count": 5,
   "id": "424d8d00-b1d1-4590-a48a-8d4244a47019",
   "metadata": {},
   "outputs": [
    {
     "data": {
      "text/plain": [
       "asin                                     0\n",
       "product_type                             0\n",
       "parent_asin                              2\n",
       "product_group                            0\n",
       "manufacturer                            73\n",
       "brand                                    1\n",
       "model                                   33\n",
       "color                                   75\n",
       "size                                    72\n",
       "is_eligible_for_super_saver_shipping     0\n",
       "is_sns                                   0\n",
       "dtype: int64"
      ]
     },
     "execution_count": 5,
     "metadata": {},
     "output_type": "execute_result"
    }
   ],
   "source": [
    "prod.isna().sum()"
   ]
  },
  {
   "cell_type": "markdown",
   "id": "7dc120c1-3690-4359-8a4d-71593c2c47b7",
   "metadata": {},
   "source": [
    "### Object Types will need to be adjusted"
   ]
  },
  {
   "cell_type": "code",
   "execution_count": 6,
   "id": "0ba18250-caf6-459a-aca3-9f6d963a64f0",
   "metadata": {},
   "outputs": [
    {
     "data": {
      "text/plain": [
       "asin                                    object\n",
       "product_type                             int64\n",
       "parent_asin                             object\n",
       "product_group                           object\n",
       "manufacturer                            object\n",
       "brand                                   object\n",
       "model                                   object\n",
       "color                                   object\n",
       "size                                    object\n",
       "is_eligible_for_super_saver_shipping      bool\n",
       "is_sns                                    bool\n",
       "dtype: object"
      ]
     },
     "execution_count": 6,
     "metadata": {},
     "output_type": "execute_result"
    }
   ],
   "source": [
    "prod.dtypes"
   ]
  },
  {
   "cell_type": "markdown",
   "id": "d27b809f-a2b1-4d88-9a71-ff29dc14340e",
   "metadata": {},
   "source": [
    "### No Duplicates"
   ]
  },
  {
   "cell_type": "code",
   "execution_count": 8,
   "id": "4771f614-0417-4da8-8462-db8ac7f6f23f",
   "metadata": {},
   "outputs": [
    {
     "data": {
      "text/plain": [
       "0"
      ]
     },
     "execution_count": 8,
     "metadata": {},
     "output_type": "execute_result"
    }
   ],
   "source": [
    "prod.duplicated().sum()"
   ]
  },
  {
   "cell_type": "markdown",
   "id": "e4ab3095-9c56-4b6e-97d4-be64690f442a",
   "metadata": {},
   "source": [
    "### Lots of variability in color and size values"
   ]
  },
  {
   "cell_type": "code",
   "execution_count": 22,
   "id": "6dceffd9-4437-4f39-a805-c5f8ff18190a",
   "metadata": {},
   "outputs": [
    {
     "data": {
      "text/plain": [
       "<AxesSubplot:>"
      ]
     },
     "execution_count": 22,
     "metadata": {},
     "output_type": "execute_result"
    },
    {
     "data": {
      "image/png": "[encoded data removed]",
      "text/plain": [
       "<Figure size 432x288 with 1 Axes>"
      ]
     },
     "metadata": {
      "needs_background": "light"
     },
     "output_type": "display_data"
    }
   ],
   "source": [
    "subs = prod.sample(50)\n",
    "subs.color.value_counts().plot(kind = \"bar\")"
   ]
  },
  {
   "cell_type": "code",
   "execution_count": 24,
   "id": "8a6a1932-1e93-43d6-b626-30ca110d4bda",
   "metadata": {},
   "outputs": [
    {
     "data": {
      "text/plain": [
       "<AxesSubplot:>"
      ]
     },
     "execution_count": 24,
     "metadata": {},
     "output_type": "execute_result"
    },
    {
     "data": {
      "image/png": "[encoded data removed]",
      "text/plain": [
       "<Figure size 432x288 with 1 Axes>"
      ]
     },
     "metadata": {
      "needs_background": "light"
     },
     "output_type": "display_data"
    }
   ],
   "source": [
    "subs[\"size\"].value_counts().plot(kind = \"bar\")"
   ]
  },
  {
   "cell_type": "markdown",
   "id": "0a3bc742-72fe-426f-8d05-6592f3fa98ab",
   "metadata": {},
   "source": [
    "### Groups"
   ]
  },
  {
   "cell_type": "code",
   "execution_count": 26,
   "id": "af9a59f9-8a9a-4355-8a9a-71b9335d9d58",
   "metadata": {},
   "outputs": [
    {
     "data": {
      "text/plain": [
       "Gift Card                           69\n",
       "Shoes                               56\n",
       "Home                                49\n",
       "Wireless                             6\n",
       "Automotive Parts and Accessories     4\n",
       "Grocery                              4\n",
       "Musical Instruments                  3\n",
       "Guild                                2\n",
       "Sports                               2\n",
       "Office Product                       1\n",
       "Mobile Applications                  1\n",
       "Digital Music Purchase               1\n",
       "Kitchen                              1\n",
       "Drugstore                            1\n",
       "Name: product_group, dtype: int64"
      ]
     },
     "execution_count": 26,
     "metadata": {},
     "output_type": "execute_result"
    }
   ],
   "source": [
    "prod.product_group.value_counts()"
   ]
  },
  {
   "cell_type": "code",
   "execution_count": null,
   "id": "49211a43-86ce-4286-b44b-f0b4ce86ac50",
   "metadata": {},
   "outputs": [],
   "source": []
  }
 ],
 "metadata": {
  "kernelspec": {
   "display_name": "Python 3 (ipykernel)",
   "language": "python",
   "name": "python3"
  },
  "language_info": {
   "codemirror_mode": {
    "name": "ipython",
    "version": 3
   },
   "file_extension": ".py",
   "mimetype": "text/x-python",
   "name": "python",
   "nbconvert_exporter": "python",
   "pygments_lexer": "ipython3",
   "version": "3.9.7"
  }
 },
 "nbformat": 4,
 "nbformat_minor": 5
}
