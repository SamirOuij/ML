{
 "cells": [
  {
   "cell_type": "code",
   "execution_count": 1,
   "id": "697cdbc7-75a5-4fee-ad5a-875ae1f858ad",
   "metadata": {},
   "outputs": [],
   "source": [
    "import numpy as np\n",
    "import pandas as pd"
   ]
  },
  {
   "cell_type": "code",
   "execution_count": 18,
   "id": "02c3f96f-6f05-407c-8fb3-c137163ad4ce",
   "metadata": {},
   "outputs": [
    {
     "data": {
      "text/html": [
       "<div>\n",
       "<style scoped>\n",
       "    .dataframe tbody tr th:only-of-type {\n",
       "        vertical-align: middle;\n",
       "    }\n",
       "\n",
       "    .dataframe tbody tr th {\n",
       "        vertical-align: top;\n",
       "    }\n",
       "\n",
       "    .dataframe thead th {\n",
       "        text-align: right;\n",
       "    }\n",
       "</style>\n",
       "<table border=\"1\" class=\"dataframe\">\n",
       "  <thead>\n",
       "    <tr style=\"text-align: right;\">\n",
       "      <th></th>\n",
       "      <th>domainId</th>\n",
       "      <th>catId</th>\n",
       "      <th>name</th>\n",
       "      <th>parent</th>\n",
       "      <th>highestRank</th>\n",
       "      <th>productCount</th>\n",
       "      <th>contextFreeName</th>\n",
       "      <th>lowestRank</th>\n",
       "    </tr>\n",
       "  </thead>\n",
       "  <tbody>\n",
       "    <tr>\n",
       "      <th>1394</th>\n",
       "      <td>1</td>\n",
       "      <td>11717387011</td>\n",
       "      <td>Prostate Disease</td>\n",
       "      <td>156466011</td>\n",
       "      <td>6738647</td>\n",
       "      <td>415</td>\n",
       "      <td>Prostate Disease</td>\n",
       "      <td>6396</td>\n",
       "    </tr>\n",
       "    <tr>\n",
       "      <th>119</th>\n",
       "      <td>1</td>\n",
       "      <td>8624149011</td>\n",
       "      <td>Sports &amp; Outdoors</td>\n",
       "      <td>8584459011</td>\n",
       "      <td>6954680</td>\n",
       "      <td>6960</td>\n",
       "      <td>30-Minute Sports &amp; Outdoors Short Reads</td>\n",
       "      <td>15239</td>\n",
       "    </tr>\n",
       "    <tr>\n",
       "      <th>411</th>\n",
       "      <td>1</td>\n",
       "      <td>157255011</td>\n",
       "      <td>Research</td>\n",
       "      <td>157119011</td>\n",
       "      <td>6964319</td>\n",
       "      <td>11529</td>\n",
       "      <td>Medical Research</td>\n",
       "      <td>1454</td>\n",
       "    </tr>\n",
       "    <tr>\n",
       "      <th>993</th>\n",
       "      <td>1</td>\n",
       "      <td>8917500011</td>\n",
       "      <td>Family</td>\n",
       "      <td>158561011</td>\n",
       "      <td>6982958</td>\n",
       "      <td>6764</td>\n",
       "      <td>Family &amp; Personal Growth</td>\n",
       "      <td>716</td>\n",
       "    </tr>\n",
       "    <tr>\n",
       "      <th>1162</th>\n",
       "      <td>1</td>\n",
       "      <td>158171011</td>\n",
       "      <td>Graduate &amp; Professional</td>\n",
       "      <td>158240011</td>\n",
       "      <td>6921105</td>\n",
       "      <td>2927</td>\n",
       "      <td>Graduate &amp; Professional Test Preparation</td>\n",
       "      <td>844</td>\n",
       "    </tr>\n",
       "  </tbody>\n",
       "</table>\n",
       "</div>"
      ],
      "text/plain": [
       "      domainId        catId                     name      parent  highestRank  \\\n",
       "1394         1  11717387011         Prostate Disease   156466011      6738647   \n",
       "119          1   8624149011        Sports & Outdoors  8584459011      6954680   \n",
       "411          1    157255011                 Research   157119011      6964319   \n",
       "993          1   8917500011                   Family   158561011      6982958   \n",
       "1162         1    158171011  Graduate & Professional   158240011      6921105   \n",
       "\n",
       "      productCount                           contextFreeName  lowestRank  \n",
       "1394           415                          Prostate Disease        6396  \n",
       "119           6960   30-Minute Sports & Outdoors Short Reads       15239  \n",
       "411          11529                          Medical Research        1454  \n",
       "993           6764                  Family & Personal Growth         716  \n",
       "1162          2927  Graduate & Professional Test Preparation         844  "
      ]
     },
     "execution_count": 18,
     "metadata": {},
     "output_type": "execute_result"
    }
   ],
   "source": [
    "cat = pd.read_csv(\"data/categories_edited.csv\")\n",
    "cat.sample(5)"
   ]
  },
  {
   "cell_type": "code",
   "execution_count": 3,
   "id": "db4ac48f-1d73-4a5c-b851-e07d09872e53",
   "metadata": {},
   "outputs": [
    {
     "data": {
      "text/plain": [
       "(1396, 8)"
      ]
     },
     "execution_count": 3,
     "metadata": {},
     "output_type": "execute_result"
    }
   ],
   "source": [
    "cat.shape"
   ]
  },
  {
   "cell_type": "markdown",
   "id": "7933a428-13bd-4620-a264-4d8c0c8ca381",
   "metadata": {},
   "source": [
    "### No NA values"
   ]
  },
  {
   "cell_type": "code",
   "execution_count": 4,
   "id": "0f667d8a-bb0a-497c-9018-076e0b092d38",
   "metadata": {},
   "outputs": [
    {
     "data": {
      "text/plain": [
       "domainId           0\n",
       "catId              0\n",
       "name               0\n",
       "parent             0\n",
       "highestRank        0\n",
       "productCount       0\n",
       "contextFreeName    0\n",
       "lowestRank         0\n",
       "dtype: int64"
      ]
     },
     "execution_count": 4,
     "metadata": {},
     "output_type": "execute_result"
    }
   ],
   "source": [
    "cat.isna().sum()"
   ]
  },
  {
   "cell_type": "code",
   "execution_count": 5,
   "id": "e046bbeb-61c5-442c-8efd-eff4a3509dca",
   "metadata": {},
   "outputs": [
    {
     "data": {
      "text/plain": [
       "array([1])"
      ]
     },
     "execution_count": 5,
     "metadata": {},
     "output_type": "execute_result"
    }
   ],
   "source": [
    "cat.domainId.unique()"
   ]
  },
  {
   "cell_type": "markdown",
   "id": "7cb9fec5-415a-46b6-9628-5885373e413e",
   "metadata": {},
   "source": [
    "### Data Types"
   ]
  },
  {
   "cell_type": "code",
   "execution_count": 9,
   "id": "be5b64fa-7055-4795-9097-e0cd66dffc42",
   "metadata": {},
   "outputs": [
    {
     "data": {
      "text/plain": [
       "domainId            int64\n",
       "catId               int64\n",
       "name               object\n",
       "parent              int64\n",
       "highestRank         int64\n",
       "productCount        int64\n",
       "contextFreeName    object\n",
       "lowestRank          int64\n",
       "dtype: object"
      ]
     },
     "execution_count": 9,
     "metadata": {},
     "output_type": "execute_result"
    }
   ],
   "source": [
    "cat.dtypes"
   ]
  },
  {
   "cell_type": "markdown",
   "id": "07c6b390-1a3c-4bcd-b1f4-92e3ada34e51",
   "metadata": {},
   "source": [
    "### No duplicates in data set"
   ]
  },
  {
   "cell_type": "code",
   "execution_count": 16,
   "id": "dfec76de-cb31-41f2-a775-1ccde4f793a7",
   "metadata": {},
   "outputs": [
    {
     "data": {
      "text/plain": [
       "0"
      ]
     },
     "execution_count": 16,
     "metadata": {},
     "output_type": "execute_result"
    }
   ],
   "source": [
    "cat.duplicated().sum()"
   ]
  },
  {
   "cell_type": "markdown",
   "id": "1e135796-de08-4394-96c9-9b45aab490ad",
   "metadata": {},
   "source": [
    "### Category Names + Distributions"
   ]
  },
  {
   "cell_type": "code",
   "execution_count": 8,
   "id": "ccd36ee1-29fc-4caa-9272-51ca6577d417",
   "metadata": {},
   "outputs": [
    {
     "data": {
      "text/plain": [
       "History                      18\n",
       "Reference                    12\n",
       "Self-Help                    11\n",
       "Religion & Spirituality       9\n",
       "Travel                        8\n",
       "                             ..\n",
       "Schools, Periods & Styles     1\n",
       "Baroque                       1\n",
       "Ancient & Classical           1\n",
       "Romantic                      1\n",
       "Chronic Fatigue Syndrome      1\n",
       "Name: name, Length: 1110, dtype: int64"
      ]
     },
     "execution_count": 8,
     "metadata": {},
     "output_type": "execute_result"
    }
   ],
   "source": [
    "cat.name.value_counts()"
   ]
  },
  {
   "cell_type": "code",
   "execution_count": 21,
   "id": "fc14e1cb-3be1-4d31-ad2d-da538c6e652f",
   "metadata": {},
   "outputs": [
    {
     "data": {
      "text/html": [
       "<div>\n",
       "<style scoped>\n",
       "    .dataframe tbody tr th:only-of-type {\n",
       "        vertical-align: middle;\n",
       "    }\n",
       "\n",
       "    .dataframe tbody tr th {\n",
       "        vertical-align: top;\n",
       "    }\n",
       "\n",
       "    .dataframe thead th {\n",
       "        text-align: right;\n",
       "    }\n",
       "</style>\n",
       "<table border=\"1\" class=\"dataframe\">\n",
       "  <thead>\n",
       "    <tr style=\"text-align: right;\">\n",
       "      <th></th>\n",
       "      <th>domainId</th>\n",
       "      <th>catId</th>\n",
       "      <th>name</th>\n",
       "      <th>parent</th>\n",
       "      <th>highestRank</th>\n",
       "      <th>productCount</th>\n",
       "      <th>contextFreeName</th>\n",
       "      <th>lowestRank</th>\n",
       "    </tr>\n",
       "  </thead>\n",
       "  <tbody>\n",
       "    <tr>\n",
       "      <th>25</th>\n",
       "      <td>1</td>\n",
       "      <td>8624226011</td>\n",
       "      <td>Travel</td>\n",
       "      <td>8584462011</td>\n",
       "      <td>6964863</td>\n",
       "      <td>15620</td>\n",
       "      <td>90-Minute Travel Short Reads</td>\n",
       "      <td>1033</td>\n",
       "    </tr>\n",
       "    <tr>\n",
       "      <th>46</th>\n",
       "      <td>1</td>\n",
       "      <td>8624251011</td>\n",
       "      <td>Travel</td>\n",
       "      <td>8584463011</td>\n",
       "      <td>6963562</td>\n",
       "      <td>19624</td>\n",
       "      <td>Two-Hour Travel Short Reads</td>\n",
       "      <td>1537</td>\n",
       "    </tr>\n",
       "    <tr>\n",
       "      <th>75</th>\n",
       "      <td>1</td>\n",
       "      <td>8624126011</td>\n",
       "      <td>Travel</td>\n",
       "      <td>8584458011</td>\n",
       "      <td>6959047</td>\n",
       "      <td>3656</td>\n",
       "      <td>15-Minute Travel Short Reads</td>\n",
       "      <td>15957</td>\n",
       "    </tr>\n",
       "    <tr>\n",
       "      <th>98</th>\n",
       "      <td>1</td>\n",
       "      <td>8624201011</td>\n",
       "      <td>Travel</td>\n",
       "      <td>8584461011</td>\n",
       "      <td>6926272</td>\n",
       "      <td>7551</td>\n",
       "      <td>One-Hour Travel Short Reads</td>\n",
       "      <td>6712</td>\n",
       "    </tr>\n",
       "    <tr>\n",
       "      <th>127</th>\n",
       "      <td>1</td>\n",
       "      <td>8624151011</td>\n",
       "      <td>Travel</td>\n",
       "      <td>8584459011</td>\n",
       "      <td>6918769</td>\n",
       "      <td>6076</td>\n",
       "      <td>30-Minute Travel Short Reads</td>\n",
       "      <td>7845</td>\n",
       "    </tr>\n",
       "    <tr>\n",
       "      <th>148</th>\n",
       "      <td>1</td>\n",
       "      <td>8624176011</td>\n",
       "      <td>Travel</td>\n",
       "      <td>8584460011</td>\n",
       "      <td>6942565</td>\n",
       "      <td>8400</td>\n",
       "      <td>45-Minute Travel Short Reads</td>\n",
       "      <td>4485</td>\n",
       "    </tr>\n",
       "    <tr>\n",
       "      <th>245</th>\n",
       "      <td>1</td>\n",
       "      <td>17403662011</td>\n",
       "      <td>Travel</td>\n",
       "      <td>2486013011</td>\n",
       "      <td>4137442</td>\n",
       "      <td>50</td>\n",
       "      <td>Kindle Singles: Travel</td>\n",
       "      <td>164593</td>\n",
       "    </tr>\n",
       "    <tr>\n",
       "      <th>465</th>\n",
       "      <td>1</td>\n",
       "      <td>154735011</td>\n",
       "      <td>Travel</td>\n",
       "      <td>154715011</td>\n",
       "      <td>6944594</td>\n",
       "      <td>8490</td>\n",
       "      <td>Travel Photography</td>\n",
       "      <td>7523</td>\n",
       "    </tr>\n",
       "  </tbody>\n",
       "</table>\n",
       "</div>"
      ],
      "text/plain": [
       "     domainId        catId    name      parent  highestRank  productCount  \\\n",
       "25          1   8624226011  Travel  8584462011      6964863         15620   \n",
       "46          1   8624251011  Travel  8584463011      6963562         19624   \n",
       "75          1   8624126011  Travel  8584458011      6959047          3656   \n",
       "98          1   8624201011  Travel  8584461011      6926272          7551   \n",
       "127         1   8624151011  Travel  8584459011      6918769          6076   \n",
       "148         1   8624176011  Travel  8584460011      6942565          8400   \n",
       "245         1  17403662011  Travel  2486013011      4137442            50   \n",
       "465         1    154735011  Travel   154715011      6944594          8490   \n",
       "\n",
       "                  contextFreeName  lowestRank  \n",
       "25   90-Minute Travel Short Reads        1033  \n",
       "46    Two-Hour Travel Short Reads        1537  \n",
       "75   15-Minute Travel Short Reads       15957  \n",
       "98    One-Hour Travel Short Reads        6712  \n",
       "127  30-Minute Travel Short Reads        7845  \n",
       "148  45-Minute Travel Short Reads        4485  \n",
       "245        Kindle Singles: Travel      164593  \n",
       "465            Travel Photography        7523  "
      ]
     },
     "execution_count": 21,
     "metadata": {},
     "output_type": "execute_result"
    }
   ],
   "source": [
    "cat[cat.name == \"Travel\"]"
   ]
  },
  {
   "cell_type": "markdown",
   "id": "4d58821b-7c5d-48c9-89c0-2f6d65fd2265",
   "metadata": {},
   "source": [
    "Categories with the same name have different context-free names"
   ]
  },
  {
   "cell_type": "code",
   "execution_count": null,
   "id": "d9296e18-6460-4101-a2f9-1a401320c6e6",
   "metadata": {},
   "outputs": [],
   "source": []
  }
 ],
 "metadata": {
  "kernelspec": {
   "display_name": "Python 3 (ipykernel)",
   "language": "python",
   "name": "python3"
  },
  "language_info": {
   "codemirror_mode": {
    "name": "ipython",
    "version": 3
   },
   "file_extension": ".py",
   "mimetype": "text/x-python",
   "name": "python",
   "nbconvert_exporter": "python",
   "pygments_lexer": "ipython3",
   "version": "3.9.7"
  }
 },
 "nbformat": 4,
 "nbformat_minor": 5
}
